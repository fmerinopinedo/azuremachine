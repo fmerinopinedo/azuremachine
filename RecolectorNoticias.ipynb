{
 "cells": [
  {
   "cell_type": "code",
   "execution_count": null,
   "metadata": {
    "collapsed": true
   },
   "outputs": [],
   "source": [
    "import psycopg2\n",
    "import pandas as pd\n",
    "import time\n",
    "from mbi.utils.Emails import Emails\n",
    "\n",
    "# Connection parameters, yours will be different\n",
    "param_dic = {\n",
    "    \"host\"      : \"argus-db-serverpro.postgres.database.azure.com\",\n",
    "    \"database\"  : \"argus\",\n",
    "    \"user\"      : \"argus@argus-db-serverpro\",\n",
    "    \"password\"  : \"Proyectoeoi2019\"\n",
    "}\n",
    "def connect(params_dic):\n",
    "    \"\"\" Connect to the PostgreSQL database server \"\"\"\n",
    "    conn = None\n",
    "    try:\n",
    "        # connect to the PostgreSQL server\n",
    "        print('Connecting to the PostgreSQL database...')\n",
    "        conn = psycopg2.connect(**params_dic)\n",
    "    except (Exception, psycopg2.DatabaseError) as error:\n",
    "        print(error)\n",
    "        sys.exit(1) \n",
    "    print(\"Connection successful\")\n",
    "    return conn\n",
    "\n",
    "def postgresql_to_dataframe(conn, select_query, column_names):\n",
    "    \"\"\"\n",
    "    Tranform a SELECT query into a pandas dataframe\n",
    "    \"\"\"\n",
    "    cursor = conn.cursor()\n",
    "    try:\n",
    "        cursor.execute(select_query)\n",
    "    except (Exception, psycopg2.DatabaseError) as error:\n",
    "        print(\"Error: %s\" % error)\n",
    "        cursor.close()\n",
    "        return 1\n",
    "    \n",
    "    # Naturally we get a list of tupples\n",
    "    tupples = cursor.fetchall()\n",
    "    cursor.close()\n",
    "    \n",
    "    # We just need to turn it into a pandas dataframe\n",
    "    df = pd.DataFrame(tupples, columns=column_names)\n",
    "    return df\n",
    "\n",
    "conn = connect(param_dic)\n",
    "\n",
    "column_names = [\"id\", \"timestamp\", \"publishedat\", \"title\", \"summary\", \"url\", \"urlToImage\", \"feedback\", \"entity\", \"score\"] \n",
    "\n",
    "em = Emails(emailsto=['fernando.merino@servexternos.gruposantander.com'], subject=\"KPIs Digital Mercados Draft\", mailid=False)\n",
    "\n",
    "em.sendmail()\n",
    "\n",
    "print(\"Email mandado\")\n",
    "while True:\n",
    "    df = postgresql_to_dataframe(conn, \"select * from argus_dj_articles order by publishedat desc limit 100\", column_names)\n",
    "    print(df.head())\n",
    "    hora = time.asctime(time.localtime())\n",
    "    df.to_excel(\"output.xlsx\")\n",
    "    print(hora)\n",
    "    time.sleep(10)\n"
   ]
  }
 ],
 "metadata": {
  "kernelspec": {
   "display_name": "Python 3",
   "language": "python",
   "name": "python3"
  },
  "language_info": {
   "codemirror_mode": {
    "name": "ipython",
    "version": 3
   },
   "file_extension": ".py",
   "mimetype": "text/x-python",
   "name": "python",
   "nbconvert_exporter": "python",
   "pygments_lexer": "ipython3",
   "version": "3.6.3"
  }
 },
 "nbformat": 4,
 "nbformat_minor": 2
}
